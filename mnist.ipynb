{
 "cells": [
  {
   "cell_type": "markdown",
   "id": "c3ccb140-d4db-4a56-8d81-8f5d0f68494f",
   "metadata": {},
   "source": [
    "# MNIST Handwritten Digit Classification"
   ]
  },
  {
   "cell_type": "code",
   "execution_count": 27,
   "id": "5b2750db-6388-4848-bd17-d89149176aac",
   "metadata": {},
   "outputs": [],
   "source": [
    "import torch\n",
    "import torch.nn as nn\n",
    "import torch.nn.functional as F\n",
    "from torch.utils.data import DataLoader\n",
    "from torchvision import datasets, transforms\n",
    "from torchvision.utils import make_grid\n",
    "import numpy as np\n",
    "import pandas as pd\n",
    "from sklearn.metrics import confusion_matrix\n",
    "import matplotlib.pyplot as plt\n",
    "%matplotlib inline"
   ]
  },
  {
   "cell_type": "code",
   "execution_count": 28,
   "id": "a418d198-a2fe-49f1-af2a-9dd731b66171",
   "metadata": {},
   "outputs": [],
   "source": [
    "# Convert mnist image files into a four dimensional tensor (# of images, height, width, colour channel)\n",
    "transform = transforms.ToTensor()"
   ]
  },
  {
   "cell_type": "code",
   "execution_count": 29,
   "id": "f8f29565-ea26-4e62-99d7-123dbe1af7c7",
   "metadata": {},
   "outputs": [
    {
     "name": "stdout",
     "output_type": "stream",
     "text": [
      "Downloading http://yann.lecun.com/exdb/mnist/train-images-idx3-ubyte.gz\n",
      "Failed to download (trying next):\n",
      "HTTP Error 403: Forbidden\n",
      "\n",
      "Downloading https://ossci-datasets.s3.amazonaws.com/mnist/train-images-idx3-ubyte.gz\n",
      "Downloading https://ossci-datasets.s3.amazonaws.com/mnist/train-images-idx3-ubyte.gz to mnist/MNIST/raw/train-images-idx3-ubyte.gz\n"
     ]
    },
    {
     "name": "stderr",
     "output_type": "stream",
     "text": [
      "100.0%\n"
     ]
    },
    {
     "name": "stdout",
     "output_type": "stream",
     "text": [
      "Extracting mnist/MNIST/raw/train-images-idx3-ubyte.gz to mnist/MNIST/raw\n",
      "\n",
      "Downloading http://yann.lecun.com/exdb/mnist/train-labels-idx1-ubyte.gz\n",
      "Failed to download (trying next):\n",
      "HTTP Error 403: Forbidden\n",
      "\n",
      "Downloading https://ossci-datasets.s3.amazonaws.com/mnist/train-labels-idx1-ubyte.gz\n",
      "Downloading https://ossci-datasets.s3.amazonaws.com/mnist/train-labels-idx1-ubyte.gz to mnist/MNIST/raw/train-labels-idx1-ubyte.gz\n"
     ]
    },
    {
     "name": "stderr",
     "output_type": "stream",
     "text": [
      "100.0%\n"
     ]
    },
    {
     "name": "stdout",
     "output_type": "stream",
     "text": [
      "Extracting mnist/MNIST/raw/train-labels-idx1-ubyte.gz to mnist/MNIST/raw\n",
      "\n",
      "Downloading http://yann.lecun.com/exdb/mnist/t10k-images-idx3-ubyte.gz\n",
      "Failed to download (trying next):\n",
      "HTTP Error 403: Forbidden\n",
      "\n",
      "Downloading https://ossci-datasets.s3.amazonaws.com/mnist/t10k-images-idx3-ubyte.gz\n",
      "Downloading https://ossci-datasets.s3.amazonaws.com/mnist/t10k-images-idx3-ubyte.gz to mnist/MNIST/raw/t10k-images-idx3-ubyte.gz\n"
     ]
    },
    {
     "name": "stderr",
     "output_type": "stream",
     "text": [
      "100.0%\n"
     ]
    },
    {
     "name": "stdout",
     "output_type": "stream",
     "text": [
      "Extracting mnist/MNIST/raw/t10k-images-idx3-ubyte.gz to mnist/MNIST/raw\n",
      "\n",
      "Downloading http://yann.lecun.com/exdb/mnist/t10k-labels-idx1-ubyte.gz\n",
      "Failed to download (trying next):\n",
      "HTTP Error 403: Forbidden\n",
      "\n",
      "Downloading https://ossci-datasets.s3.amazonaws.com/mnist/t10k-labels-idx1-ubyte.gz\n",
      "Downloading https://ossci-datasets.s3.amazonaws.com/mnist/t10k-labels-idx1-ubyte.gz to mnist/MNIST/raw/t10k-labels-idx1-ubyte.gz\n"
     ]
    },
    {
     "name": "stderr",
     "output_type": "stream",
     "text": [
      "100.0%"
     ]
    },
    {
     "name": "stdout",
     "output_type": "stream",
     "text": [
      "Extracting mnist/MNIST/raw/t10k-labels-idx1-ubyte.gz to mnist/MNIST/raw\n",
      "\n"
     ]
    },
    {
     "name": "stderr",
     "output_type": "stream",
     "text": [
      "\n"
     ]
    }
   ],
   "source": [
    "# Train Data\n",
    "train_data = datasets.MNIST(root='mnist', train=True, download=True, transform=transform)"
   ]
  },
  {
   "cell_type": "code",
   "execution_count": 31,
   "id": "f18a2b72-4d3e-4189-8088-605ec5db7d41",
   "metadata": {},
   "outputs": [],
   "source": [
    "# Test Data\n",
    "test_data = datasets.MNIST(root='mnist', train=False, download=True, transform=transform)"
   ]
  },
  {
   "cell_type": "code",
   "execution_count": 33,
   "id": "fdb9ec8b-4607-4958-b7c0-6f5222957bb4",
   "metadata": {},
   "outputs": [
    {
     "data": {
      "text/plain": [
       "Dataset MNIST\n",
       "    Number of datapoints: 60000\n",
       "    Root location: mnist\n",
       "    Split: Train\n",
       "    StandardTransform\n",
       "Transform: ToTensor()"
      ]
     },
     "execution_count": 33,
     "metadata": {},
     "output_type": "execute_result"
    }
   ],
   "source": [
    "train_data"
   ]
  },
  {
   "cell_type": "code",
   "execution_count": 34,
   "id": "ba4d43b2-8e4b-4a7e-9f2e-fdcd6f7e5747",
   "metadata": {},
   "outputs": [
    {
     "data": {
      "text/plain": [
       "Dataset MNIST\n",
       "    Number of datapoints: 10000\n",
       "    Root location: mnist\n",
       "    Split: Test\n",
       "    StandardTransform\n",
       "Transform: ToTensor()"
      ]
     },
     "execution_count": 34,
     "metadata": {},
     "output_type": "execute_result"
    }
   ],
   "source": [
    "test_data"
   ]
  },
  {
   "cell_type": "code",
   "execution_count": 35,
   "id": "25e58298-2343-44bf-8382-6f3493feef33",
   "metadata": {},
   "outputs": [],
   "source": [
    "# Create a small batch size for images\n",
    "train_loader = DataLoader(train_data, batch_size=10, shuffle=True)\n",
    "test_loader = DataLoader(train_data, batch_size=10, shuffle=False)"
   ]
  },
  {
   "cell_type": "code",
   "execution_count": 36,
   "id": "1f843bac-7e96-43a3-9e48-2fa14d6f48c0",
   "metadata": {},
   "outputs": [],
   "source": [
    "# Model class\n",
    "class CNN(nn.Module):\n",
    "    def __init__(self):\n",
    "        super().__init__()\n",
    "        # Convolutional layers\n",
    "        self.conv_l1 = nn.Conv2d(1, 6, 3, 1)\n",
    "        self.conv_l2 = nn.Conv2d(6, 16, 3, 1)\n",
    "        # Fully-connected layers\n",
    "        self.fc1 = nn.Linear(5 * 5 * 16, 120)\n",
    "        self.fc2 = nn.Linear(120, 84)\n",
    "        self.fc3 = nn.Linear(84, 10)\n",
    "\n",
    "    def forward(self, X):\n",
    "        # first convolutional layer\n",
    "        X = F.relu(self.conv_l1(X))\n",
    "        X = F.max_pool2d(X, 2, 2) # 2x2 kernal and stride 2\n",
    "        # second convolutional layer\n",
    "        X = F.relu(self.conv_l2(X))\n",
    "        X = F.max_pool2d(X, 2, 2) # 2x2 kernal and stride 2\n",
    "        # Re-view to flatten it out\n",
    "        X = X.view(-1, 16 * 5 * 5)\n",
    "        # fully connected layers\n",
    "        X = F.relu(self.fc1(X))\n",
    "        X = F.relu(self.fc2(X))\n",
    "        X = self.fc3(X)\n",
    "        return F.log_softmax(X, dim=1)"
   ]
  },
  {
   "cell_type": "code",
   "execution_count": 37,
   "id": "21ba6c0f-d1dd-4d99-90ae-febfaa3ecb21",
   "metadata": {},
   "outputs": [
    {
     "data": {
      "text/plain": [
       "CNN(\n",
       "  (conv_l1): Conv2d(1, 6, kernel_size=(3, 3), stride=(1, 1))\n",
       "  (conv_l2): Conv2d(6, 16, kernel_size=(3, 3), stride=(1, 1))\n",
       "  (fc1): Linear(in_features=400, out_features=120, bias=True)\n",
       "  (fc2): Linear(in_features=120, out_features=84, bias=True)\n",
       "  (fc3): Linear(in_features=84, out_features=10, bias=True)\n",
       ")"
      ]
     },
     "execution_count": 37,
     "metadata": {},
     "output_type": "execute_result"
    }
   ],
   "source": [
    "# create an instance of our CNN model\n",
    "torch.manual_seed(60)\n",
    "model = CNN()\n",
    "model"
   ]
  },
  {
   "cell_type": "code",
   "execution_count": 48,
   "id": "f294d34c-db4a-40ed-8e21-fdd4d4a78ce5",
   "metadata": {},
   "outputs": [],
   "source": [
    "# Loss function optimiser\n",
    "criterion = nn.CrossEntropyLoss()\n",
    "optimiser = torch.optim.Adam(model.parameters(), lr=0.001)"
   ]
  },
  {
   "cell_type": "code",
   "execution_count": 49,
   "id": "d23b406b-3f49-4ec8-a6dc-f2cb6dfde514",
   "metadata": {},
   "outputs": [
    {
     "name": "stdout",
     "output_type": "stream",
     "text": [
      "Epoch: 1  Batch: 600  Loss: 0.0007834103889763355\n",
      "Epoch: 1  Batch: 1200  Loss: 0.00043933303095400333\n",
      "Epoch: 1  Batch: 1800  Loss: 5.578666605288163e-05\n",
      "Epoch: 1  Batch: 2400  Loss: 2.279042746522464e-05\n",
      "Epoch: 1  Batch: 3000  Loss: 0.05093545839190483\n",
      "Epoch: 1  Batch: 3600  Loss: 1.661665919527877e-05\n",
      "Epoch: 1  Batch: 4200  Loss: 0.00018847701721824706\n",
      "Epoch: 1  Batch: 4800  Loss: 0.0020607165060937405\n",
      "Epoch: 1  Batch: 5400  Loss: 0.003966503776609898\n",
      "Epoch: 1  Batch: 6000  Loss: 0.0002670862595550716\n",
      "Epoch: 2  Batch: 600  Loss: 0.0007249051122926176\n",
      "Epoch: 2  Batch: 1200  Loss: 0.20692332088947296\n",
      "Epoch: 2  Batch: 1800  Loss: 0.07669063657522202\n",
      "Epoch: 2  Batch: 2400  Loss: 1.636611341382377e-05\n",
      "Epoch: 2  Batch: 3000  Loss: 0.01424076221883297\n",
      "Epoch: 2  Batch: 3600  Loss: 0.008231474086642265\n",
      "Epoch: 2  Batch: 4200  Loss: 0.0007046760874800384\n",
      "Epoch: 2  Batch: 4800  Loss: 0.011426198296248913\n",
      "Epoch: 2  Batch: 5400  Loss: 0.0011483795242384076\n",
      "Epoch: 2  Batch: 6000  Loss: 1.69502709468361e-05\n",
      "Epoch: 3  Batch: 600  Loss: 0.0021965212654322386\n",
      "Epoch: 3  Batch: 1200  Loss: 0.00011858677316922694\n",
      "Epoch: 3  Batch: 1800  Loss: 8.795915346127003e-05\n",
      "Epoch: 3  Batch: 2400  Loss: 2.925115404650569e-05\n",
      "Epoch: 3  Batch: 3000  Loss: 8.311781857628375e-05\n",
      "Epoch: 3  Batch: 3600  Loss: 8.833042556943838e-06\n",
      "Epoch: 3  Batch: 4200  Loss: 0.0007745289476588368\n",
      "Epoch: 3  Batch: 4800  Loss: 9.858163684839383e-05\n",
      "Epoch: 3  Batch: 5400  Loss: 2.2922751668374985e-05\n",
      "Epoch: 3  Batch: 6000  Loss: 1.020406125462614e-05\n",
      "Epoch: 4  Batch: 600  Loss: 0.0020933744963258505\n",
      "Epoch: 4  Batch: 1200  Loss: 0.00022248640016186982\n",
      "Epoch: 4  Batch: 1800  Loss: 8.821474466458312e-07\n",
      "Epoch: 4  Batch: 2400  Loss: 6.675697932223557e-07\n",
      "Epoch: 4  Batch: 3000  Loss: 0.00029445800464600325\n",
      "Epoch: 4  Batch: 3600  Loss: 3.403078153496608e-05\n",
      "Epoch: 4  Batch: 4200  Loss: 2.4676060093042906e-06\n",
      "Epoch: 4  Batch: 4800  Loss: 0.0027386853471398354\n",
      "Epoch: 4  Batch: 5400  Loss: 0.00024186066002584994\n",
      "Epoch: 4  Batch: 6000  Loss: 2.093172042805236e-05\n",
      "Epoch: 5  Batch: 600  Loss: 0.016296911984682083\n",
      "Epoch: 5  Batch: 1200  Loss: 3.623908469307935e-06\n",
      "Epoch: 5  Batch: 1800  Loss: 0.0034195284824818373\n",
      "Epoch: 5  Batch: 2400  Loss: 0.004627458285540342\n",
      "Epoch: 5  Batch: 3000  Loss: 6.437293222916196e-07\n",
      "Epoch: 5  Batch: 3600  Loss: 0.0015819811960682273\n",
      "Epoch: 5  Batch: 4200  Loss: 0.0008141362923197448\n",
      "Epoch: 5  Batch: 4800  Loss: 0.0022235983051359653\n",
      "Epoch: 5  Batch: 5400  Loss: 0.0004434636211954057\n",
      "Epoch: 5  Batch: 6000  Loss: 0.00011671932588797063\n",
      "Training took: 0.9441118836402893 minutes in total\n"
     ]
    }
   ],
   "source": [
    "import time\n",
    "start_time = time.time()\n",
    "\n",
    "# Create variables for tracking\n",
    "epochs = 5\n",
    "train_losses = []\n",
    "test_losses = []\n",
    "train_correct = []\n",
    "test_correct = []\n",
    "\n",
    "# Loop of epochs\n",
    "for i in range(epochs):\n",
    "    trn_corr, tst_corr = 0, 0\n",
    "    # Train\n",
    "    for batch, (X_train, y_train) in enumerate(train_loader):\n",
    "        batch += 1 # start batches at 1\n",
    "        y_pred = model(X_train) # get predicted values from the training set\n",
    "        loss = criterion(y_pred, y_train)\n",
    "        predicted = torch.max(y_pred.data, 1)[1] # add up the number of correct predictions. Indexed off the first point\n",
    "        batch_corr = (predicted == y_train).sum() # no. of correct predictions from this batch\n",
    "        trn_corr += batch_corr\n",
    "        \n",
    "        # Update parameters\n",
    "        optimiser.zero_grad()\n",
    "        loss.backward()\n",
    "        optimiser.step()\n",
    "        \n",
    "        # Print out some results\n",
    "        if batch % 600 == 0:\n",
    "            print(f\"Epoch: {i + 1}  Batch: {batch}  Loss: {loss.item()}\")\n",
    "    \n",
    "    train_losses.append(loss)\n",
    "    train_correct.append(trn_corr)\n",
    "    \n",
    "    # Test\n",
    "    with torch.no_grad(): # No gradient so we don't update weights and biases with test set\n",
    "        for batch, (X_test, y_test) in enumerate(test_loader):\n",
    "            y_val = model(X_test)\n",
    "            predicted = torch.max(y_val.data, 1)[1] # Adding up correct predictions\n",
    "            tst_corr += (predicted == y_test).sum()\n",
    "    loss = criterion(y_val, y_test)\n",
    "    test_losses.append(loss)\n",
    "    test_correct.append(tst_corr)\n",
    "\n",
    "current_time = time.time()\n",
    "total = current_time - start_time\n",
    "print(f\"Training took: {total / 60} minutes in total\")"
   ]
  },
  {
   "cell_type": "code",
   "execution_count": 79,
   "id": "1c3b6ad1-d3d6-4151-b1b4-8444878335f3",
   "metadata": {},
   "outputs": [
    {
     "data": {
      "image/png": "[encoded data removed]",
      "text/plain": [
       "<Figure size 640x480 with 1 Axes>"
      ]
     },
     "metadata": {},
     "output_type": "display_data"
    }
   ],
   "source": [
    "# Plot the loss at each epoch\n",
    "plt.plot(train_losses, label=\"Training Losses\")\n",
    "plt.plot(test_losses, label=\"Validation Losses\")\n",
    "plt.title(\"Loss at Epoch\")\n",
    "plt.legend()\n",
    "plt.show()"
   ]
  },
  {
   "cell_type": "code",
   "execution_count": 94,
   "id": "07d4dd87-1d9e-4b52-a5e3-828239204da8",
   "metadata": {},
   "outputs": [
    {
     "data": {
      "image/png": "[encoded data removed]",
      "text/plain": [
       "<Figure size 640x480 with 1 Axes>"
      ]
     },
     "metadata": {},
     "output_type": "display_data"
    }
   ],
   "source": [
    "# Graph the accuracy at the end of each epoch\n",
    "plt.plot([t for t in train_correct], label=\"Training Accuracy\")\n",
    "plt.plot([t for t in test_correct], label=\"Validation Accuracy\")\n",
    "plt.title(\"Accuracy at the end of each epoch\")\n",
    "plt.legend()\n",
    "plt.show()"
   ]
  },
  {
   "cell_type": "code",
   "execution_count": 95,
   "id": "886fda08-7d0a-4cee-a07d-9aa1ec3ec547",
   "metadata": {},
   "outputs": [],
   "source": [
    "test_load_everything = DataLoader(test_data, batch_size=10000, shuffle=False)"
   ]
  },
  {
   "cell_type": "code",
   "execution_count": 96,
   "id": "1a01fbc1-c75c-46ec-9e5a-33bf31244189",
   "metadata": {},
   "outputs": [],
   "source": [
    "with torch.no_grad():\n",
    "    correct = 0\n",
    "    for X_test, y_test in test_load_everything:\n",
    "        y_val = model(X_test)\n",
    "        predicted = torch.max(y_val, 1)[1]\n",
    "        correct += (predicted == y_test).sum()"
   ]
  },
  {
   "cell_type": "code",
   "execution_count": 97,
   "id": "8a6539d1-8629-4bf0-9ddf-a5451e4e16b4",
   "metadata": {},
   "outputs": [
    {
     "data": {
      "text/plain": [
       "98.74000000000001"
      ]
     },
     "execution_count": 97,
     "metadata": {},
     "output_type": "execute_result"
    }
   ],
   "source": [
    "# Test for correctness\n",
    "correct.item()/len(test_data) * 100"
   ]
  },
  {
   "cell_type": "code",
   "execution_count": 98,
   "id": "35870cec-432b-4fb0-b591-8715fd00eff2",
   "metadata": {},
   "outputs": [
    {
     "data": {
      "text/plain": [
       "tensor([[0.0000, 0.0000, 0.0000, 0.0000, 0.0000, 0.0000, 0.0000, 0.0000, 0.0000,\n",
       "         0.0000, 0.0000, 0.0000, 0.0000, 0.0000, 0.0000, 0.0000, 0.0000, 0.0000,\n",
       "         0.0000, 0.0000, 0.0000, 0.0000, 0.0000, 0.0000, 0.0000, 0.0000, 0.0000,\n",
       "         0.0000],\n",
       "        [0.0000, 0.0000, 0.0000, 0.0000, 0.0000, 0.0000, 0.0000, 0.0000, 0.0000,\n",
       "         0.0000, 0.0000, 0.0000, 0.0000, 0.0000, 0.0000, 0.0000, 0.0000, 0.0000,\n",
       "         0.0000, 0.0000, 0.0000, 0.0000, 0.0000, 0.0000, 0.0000, 0.0000, 0.0000,\n",
       "         0.0000],\n",
       "        [0.0000, 0.0000, 0.0000, 0.0000, 0.0000, 0.0000, 0.0000, 0.0000, 0.0000,\n",
       "         0.0000, 0.0000, 0.0000, 0.0000, 0.0000, 0.0000, 0.0000, 0.0000, 0.0000,\n",
       "         0.0000, 0.0000, 0.0000, 0.0000, 0.0000, 0.0000, 0.0000, 0.0000, 0.0000,\n",
       "         0.0000],\n",
       "        [0.0000, 0.0000, 0.0000, 0.0000, 0.0000, 0.0000, 0.0000, 0.0000, 0.0000,\n",
       "         0.0000, 0.0000, 0.0000, 0.0000, 0.0000, 0.0000, 0.0000, 0.0000, 0.0000,\n",
       "         0.0000, 0.0000, 0.0000, 0.0000, 0.0000, 0.0000, 0.0000, 0.0000, 0.0000,\n",
       "         0.0000],\n",
       "        [0.0000, 0.0000, 0.0000, 0.0000, 0.0000, 0.0000, 0.0000, 0.0000, 0.0000,\n",
       "         0.0000, 0.0000, 0.0000, 0.0000, 0.0000, 0.0000, 0.0000, 0.0000, 0.0000,\n",
       "         0.0000, 0.0000, 0.0000, 0.0000, 0.0000, 0.0000, 0.0000, 0.0000, 0.0000,\n",
       "         0.0000],\n",
       "        [0.0000, 0.0000, 0.0000, 0.0000, 0.0000, 0.0000, 0.0000, 0.0000, 0.0000,\n",
       "         0.0000, 0.0000, 0.0000, 0.0000, 0.0000, 0.0000, 0.0000, 0.0000, 0.0000,\n",
       "         0.0000, 0.0000, 0.0000, 0.0000, 0.0000, 0.0000, 0.0000, 0.0000, 0.0000,\n",
       "         0.0000],\n",
       "        [0.0000, 0.0000, 0.0000, 0.0000, 0.0000, 0.0000, 0.0000, 0.0000, 0.0000,\n",
       "         0.0000, 0.0000, 0.1765, 0.9098, 0.8275, 0.4980, 0.0627, 0.0000, 0.0000,\n",
       "         0.0000, 0.0000, 0.0000, 0.0000, 0.0000, 0.0000, 0.0000, 0.0000, 0.0000,\n",
       "         0.0000],\n",
       "        [0.0000, 0.0000, 0.0000, 0.0000, 0.0000, 0.0000, 0.0000, 0.0000, 0.0000,\n",
       "         0.0000, 0.0706, 0.7961, 0.9961, 0.9961, 0.9961, 0.8235, 0.3765, 0.0667,\n",
       "         0.0000, 0.0000, 0.0000, 0.0000, 0.0000, 0.0000, 0.0000, 0.0000, 0.0000,\n",
       "         0.0000],\n",
       "        [0.0000, 0.0000, 0.0000, 0.0000, 0.0000, 0.0000, 0.0000, 0.0000, 0.0000,\n",
       "         0.0000, 0.4353, 0.9961, 0.9961, 0.4667, 0.8941, 0.9961, 0.9961, 0.9412,\n",
       "         0.1490, 0.0000, 0.0000, 0.0000, 0.0000, 0.0000, 0.0000, 0.0000, 0.0000,\n",
       "         0.0000],\n",
       "        [0.0000, 0.0000, 0.0000, 0.0000, 0.0000, 0.0000, 0.0000, 0.0000, 0.0000,\n",
       "         0.0000, 0.8824, 0.9961, 0.7922, 0.0588, 0.1569, 0.8235, 0.9961, 0.9961,\n",
       "         0.4431, 0.0000, 0.0000, 0.0000, 0.0000, 0.0000, 0.0000, 0.0000, 0.0000,\n",
       "         0.0000],\n",
       "        [0.0000, 0.0000, 0.0000, 0.0000, 0.0000, 0.0000, 0.0000, 0.0000, 0.0000,\n",
       "         0.2314, 0.9569, 0.9961, 0.2706, 0.0000, 0.0000, 0.8157, 0.9961, 0.9961,\n",
       "         0.6902, 0.0000, 0.0000, 0.0000, 0.0000, 0.0000, 0.0000, 0.0000, 0.0000,\n",
       "         0.0000],\n",
       "        [0.0000, 0.0000, 0.0000, 0.0000, 0.0000, 0.0000, 0.0000, 0.0000, 0.0000,\n",
       "         0.7725, 0.9961, 0.9961, 0.1333, 0.0000, 0.2235, 0.9843, 0.9961, 0.9961,\n",
       "         0.5725, 0.0000, 0.0000, 0.0000, 0.0000, 0.0000, 0.0000, 0.0000, 0.0000,\n",
       "         0.0000],\n",
       "        [0.0000, 0.0000, 0.0000, 0.0000, 0.0000, 0.0000, 0.0000, 0.0000, 0.0000,\n",
       "         0.9176, 0.9961, 0.6235, 0.0157, 0.0392, 0.7176, 0.9961, 0.9961, 0.9961,\n",
       "         0.3843, 0.0000, 0.0000, 0.0000, 0.0000, 0.0000, 0.0000, 0.0000, 0.0000,\n",
       "         0.0000],\n",
       "        [0.0000, 0.0000, 0.0000, 0.0000, 0.0000, 0.0000, 0.0000, 0.0000, 0.0000,\n",
       "         0.9176, 0.9961, 0.1569, 0.0000, 0.6549, 0.9961, 0.9961, 0.9961, 0.9961,\n",
       "         0.2353, 0.0000, 0.0000, 0.0000, 0.0000, 0.0000, 0.0000, 0.0000, 0.0000,\n",
       "         0.0000],\n",
       "        [0.0000, 0.0000, 0.0000, 0.0000, 0.0000, 0.0000, 0.0000, 0.0000, 0.0000,\n",
       "         0.7373, 0.9961, 0.2824, 0.6588, 0.9765, 0.9961, 0.9961, 0.9961, 0.9961,\n",
       "         0.2353, 0.0000, 0.0000, 0.0000, 0.0000, 0.0000, 0.0000, 0.0000, 0.0000,\n",
       "         0.0000],\n",
       "        [0.0000, 0.0000, 0.0000, 0.0000, 0.0000, 0.0000, 0.0000, 0.0000, 0.0000,\n",
       "         0.3647, 0.9804, 0.9961, 0.9961, 0.9961, 0.9961, 0.9961, 0.9961, 0.9961,\n",
       "         0.2353, 0.0000, 0.0000, 0.0000, 0.0000, 0.0000, 0.0000, 0.0000, 0.0000,\n",
       "         0.0000],\n",
       "        [0.0000, 0.0000, 0.0000, 0.0000, 0.0000, 0.0000, 0.0000, 0.0000, 0.0000,\n",
       "         0.0000, 0.6784, 0.9961, 0.9961, 0.9961, 0.9451, 0.9961, 0.9961, 0.6824,\n",
       "         0.0392, 0.0000, 0.0000, 0.0000, 0.0000, 0.0000, 0.0000, 0.0000, 0.0000,\n",
       "         0.0000],\n",
       "        [0.0000, 0.0000, 0.0000, 0.0000, 0.0000, 0.0000, 0.0000, 0.0000, 0.0000,\n",
       "         0.0000, 0.0431, 0.4863, 0.8157, 0.4627, 0.5804, 0.9961, 0.9961, 0.8941,\n",
       "         0.0000, 0.0000, 0.0000, 0.0000, 0.0000, 0.0000, 0.0000, 0.0000, 0.0000,\n",
       "         0.0000],\n",
       "        [0.0000, 0.0000, 0.0000, 0.0000, 0.0000, 0.0000, 0.0000, 0.0000, 0.0000,\n",
       "         0.0000, 0.0000, 0.0000, 0.0000, 0.0000, 0.4941, 0.9961, 0.9961, 0.6235,\n",
       "         0.0000, 0.0000, 0.0000, 0.0000, 0.0000, 0.0000, 0.0000, 0.0000, 0.0000,\n",
       "         0.0000],\n",
       "        [0.0000, 0.0000, 0.0000, 0.0000, 0.0000, 0.0000, 0.0000, 0.0000, 0.0000,\n",
       "         0.0000, 0.0000, 0.0000, 0.0000, 0.0000, 0.7569, 0.9961, 0.9961, 0.5569,\n",
       "         0.0000, 0.0000, 0.0000, 0.0000, 0.0000, 0.0000, 0.0000, 0.0000, 0.0000,\n",
       "         0.0000],\n",
       "        [0.0000, 0.0000, 0.0000, 0.0000, 0.0000, 0.0000, 0.0000, 0.0000, 0.0000,\n",
       "         0.0000, 0.0000, 0.0000, 0.0000, 0.0000, 0.8314, 0.9961, 0.9961, 0.4157,\n",
       "         0.0000, 0.0000, 0.0000, 0.0000, 0.0000, 0.0000, 0.0000, 0.0000, 0.0000,\n",
       "         0.0000],\n",
       "        [0.0000, 0.0000, 0.0000, 0.0000, 0.0000, 0.0000, 0.0000, 0.0000, 0.0000,\n",
       "         0.0000, 0.0000, 0.0000, 0.0000, 0.0118, 0.8431, 0.9961, 0.9882, 0.2039,\n",
       "         0.0000, 0.0000, 0.0000, 0.0000, 0.0000, 0.0000, 0.0000, 0.0000, 0.0000,\n",
       "         0.0000],\n",
       "        [0.0000, 0.0000, 0.0000, 0.0000, 0.0000, 0.0000, 0.0000, 0.0000, 0.0000,\n",
       "         0.0000, 0.0000, 0.0000, 0.0000, 0.1882, 0.9961, 0.9961, 0.9255, 0.0863,\n",
       "         0.0000, 0.0000, 0.0000, 0.0000, 0.0000, 0.0000, 0.0000, 0.0000, 0.0000,\n",
       "         0.0000],\n",
       "        [0.0000, 0.0000, 0.0000, 0.0000, 0.0000, 0.0000, 0.0000, 0.0000, 0.0000,\n",
       "         0.0000, 0.0000, 0.0000, 0.0000, 0.5098, 0.9961, 1.0000, 0.5529, 0.0627,\n",
       "         0.0000, 0.0000, 0.0000, 0.0000, 0.0000, 0.0000, 0.0000, 0.0000, 0.0000,\n",
       "         0.0000],\n",
       "        [0.0000, 0.0000, 0.0000, 0.0000, 0.0000, 0.0000, 0.0000, 0.0000, 0.0000,\n",
       "         0.0000, 0.0000, 0.0000, 0.0000, 0.5098, 0.9961, 1.0000, 0.3059, 0.0000,\n",
       "         0.0000, 0.0000, 0.0000, 0.0000, 0.0000, 0.0000, 0.0000, 0.0000, 0.0000,\n",
       "         0.0000],\n",
       "        [0.0000, 0.0000, 0.0000, 0.0000, 0.0000, 0.0000, 0.0000, 0.0000, 0.0000,\n",
       "         0.0000, 0.0000, 0.0000, 0.0000, 0.3961, 0.9961, 0.7882, 0.0667, 0.0000,\n",
       "         0.0000, 0.0000, 0.0000, 0.0000, 0.0000, 0.0000, 0.0000, 0.0000, 0.0000,\n",
       "         0.0000],\n",
       "        [0.0000, 0.0000, 0.0000, 0.0000, 0.0000, 0.0000, 0.0000, 0.0000, 0.0000,\n",
       "         0.0000, 0.0000, 0.0000, 0.0000, 0.0000, 0.0000, 0.0000, 0.0000, 0.0000,\n",
       "         0.0000, 0.0000, 0.0000, 0.0000, 0.0000, 0.0000, 0.0000, 0.0000, 0.0000,\n",
       "         0.0000],\n",
       "        [0.0000, 0.0000, 0.0000, 0.0000, 0.0000, 0.0000, 0.0000, 0.0000, 0.0000,\n",
       "         0.0000, 0.0000, 0.0000, 0.0000, 0.0000, 0.0000, 0.0000, 0.0000, 0.0000,\n",
       "         0.0000, 0.0000, 0.0000, 0.0000, 0.0000, 0.0000, 0.0000, 0.0000, 0.0000,\n",
       "         0.0000]])"
      ]
     },
     "execution_count": 98,
     "metadata": {},
     "output_type": "execute_result"
    }
   ],
   "source": [
    "# Get an image and reshape it\n",
    "test_data[4143][0].reshape(28, 28)"
   ]
  },
  {
   "cell_type": "code",
   "execution_count": 99,
   "id": "add99d39-081a-4a2b-9e5a-c86960b27a38",
   "metadata": {},
   "outputs": [
    {
     "data": {
      "image/png": "[encoded data removed]",
      "text/plain": [
       "<Figure size 640x480 with 1 Axes>"
      ]
     },
     "metadata": {},
     "output_type": "display_data"
    }
   ],
   "source": [
    "# Show the image\n",
    "plt.imshow(test_data[4143][0].reshape(28, 28))\n",
    "plt.show()"
   ]
  },
  {
   "cell_type": "code",
   "execution_count": 100,
   "id": "80227bd1-be9c-4d49-a85e-944b9ab7132a",
   "metadata": {},
   "outputs": [],
   "source": [
    "# Pass the image through our model\n",
    "model.eval()\n",
    "with torch.no_grad():\n",
    "    new_prediction = model(test_data[4143][0].reshape(1, 1, 28, 28)) # batch size 1, 1 colour channel, 28x28 img"
   ]
  },
  {
   "cell_type": "code",
   "execution_count": 101,
   "id": "66ecb3a3-330e-45f5-9b2c-77308e986b2d",
   "metadata": {},
   "outputs": [
    {
     "data": {
      "text/plain": [
       "tensor([[-2.7857e+01, -2.7193e+01, -2.9482e+01, -1.6292e+01, -1.4827e+01,\n",
       "         -2.5457e+01, -4.0637e+01, -2.1428e+01, -1.7636e+01, -4.7684e-07]])"
      ]
     },
     "execution_count": 101,
     "metadata": {},
     "output_type": "execute_result"
    }
   ],
   "source": [
    "# Check the new prediction\n",
    "new_prediction"
   ]
  },
  {
   "cell_type": "code",
   "execution_count": 93,
   "id": "8196d7d6-7a4b-486e-97f5-ae50c5cf55c1",
   "metadata": {},
   "outputs": [
    {
     "data": {
      "text/plain": [
       "tensor(9)"
      ]
     },
     "execution_count": 93,
     "metadata": {},
     "output_type": "execute_result"
    }
   ],
   "source": [
    "new_prediction.argmax()"
   ]
  },
  {
   "cell_type": "markdown",
   "id": "44d458a5-03a3-4759-b126-5dc1ab4f8abe",
   "metadata": {},
   "source": [
    "An output of 9 is given, which is correct shown in the image above."
   ]
  }
 ],
 "metadata": {
  "kernelspec": {
   "display_name": "Python 3 (ipykernel)",
   "language": "python",
   "name": "python3"
  },
  "language_info": {
   "codemirror_mode": {
    "name": "ipython",
    "version": 3
   },
   "file_extension": ".py",
   "mimetype": "text/x-python",
   "name": "python",
   "nbconvert_exporter": "python",
   "pygments_lexer": "ipython3",
   "version": "3.12.8"
  }
 },
 "nbformat": 4,
 "nbformat_minor": 5
}
