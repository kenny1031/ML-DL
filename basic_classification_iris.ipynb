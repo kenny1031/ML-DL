{
 "cells": [
  {
   "cell_type": "markdown",
   "id": "f924af86-7bba-4388-a73e-8206a850cb1a",
   "metadata": {},
   "source": [
    "# Basic Neural Network for Classification on Iris Flowers"
   ]
  },
  {
   "cell_type": "code",
   "execution_count": 128,
   "id": "5c6a5933-98a9-4178-b1f1-2d2d4529ccad",
   "metadata": {},
   "outputs": [],
   "source": [
    "import torch\n",
    "import torch.nn as nn\n",
    "import torch.nn.functional as F"
   ]
  },
  {
   "cell_type": "code",
   "execution_count": 129,
   "id": "8cee7e8e-67eb-4485-bd8f-cb0e112d0e94",
   "metadata": {},
   "outputs": [],
   "source": [
    "# Create a Model Class that inherits nn.Module\n",
    "class Model(nn.Module):\n",
    "    # Input layer (4 features of the flower)\n",
    "    # Hidden layer 1 (no. of neurons)\n",
    "    # Hidden layer 2 (n)\n",
    "    # output (3 classes of iris flowers)\n",
    "    def __init__(self, in_features=4, h1=8, h2=9, output_features=3):\n",
    "        super().__init__() # instantiate our nn.Module\n",
    "        self.layer1 = nn.Linear(in_features, h1)\n",
    "        self.layer2 = nn.Linear(h1, h2)\n",
    "        self.output = nn.Linear(h2, output_features)\n",
    "\n",
    "    # Forward propagation\n",
    "    def forward(self, x):\n",
    "        x = F.relu(self.layer1(x))\n",
    "        x = F.relu(self.layer2(x))\n",
    "        x = self.output(x)\n",
    "        return x"
   ]
  },
  {
   "cell_type": "code",
   "execution_count": 130,
   "id": "7baa70d2-e8db-46da-b5d1-d1ada9f55962",
   "metadata": {},
   "outputs": [],
   "source": [
    "# Randomisation\n",
    "torch.manual_seed(66)\n",
    "# Instance of model\n",
    "model = Model()"
   ]
  },
  {
   "cell_type": "code",
   "execution_count": 131,
   "id": "5c252cf2-7429-41d9-ac7a-94a3b64cd1ac",
   "metadata": {},
   "outputs": [],
   "source": [
    "import pandas as pd\n",
    "import matplotlib.pyplot as plt\n",
    "%matplotlib inline"
   ]
  },
  {
   "cell_type": "code",
   "execution_count": 132,
   "id": "394da0b3-29f0-44ea-90c8-3ecffb93531f",
   "metadata": {},
   "outputs": [],
   "source": [
    "url = 'https://gist.githubusercontent.com/curran/a08a1080b88344b0c8a7/raw/0e7a9b0a5d22642a06d3d5b9bcbad9890c8ee534/iris.csv'\n",
    "df = pd.read_csv(url)"
   ]
  },
  {
   "cell_type": "code",
   "execution_count": 133,
   "id": "694c9988-9914-456b-b6e7-11edc3911ec0",
   "metadata": {},
   "outputs": [
    {
     "data": {
      "text/html": [
       "<div>\n",
       "<style scoped>\n",
       "    .dataframe tbody tr th:only-of-type {\n",
       "        vertical-align: middle;\n",
       "    }\n",
       "\n",
       "    .dataframe tbody tr th {\n",
       "        vertical-align: top;\n",
       "    }\n",
       "\n",
       "    .dataframe thead th {\n",
       "        text-align: right;\n",
       "    }\n",
       "</style>\n",
       "<table border=\"1\" class=\"dataframe\">\n",
       "  <thead>\n",
       "    <tr style=\"text-align: right;\">\n",
       "      <th></th>\n",
       "      <th>sepal_length</th>\n",
       "      <th>sepal_width</th>\n",
       "      <th>petal_length</th>\n",
       "      <th>petal_width</th>\n",
       "      <th>species</th>\n",
       "    </tr>\n",
       "  </thead>\n",
       "  <tbody>\n",
       "    <tr>\n",
       "      <th>0</th>\n",
       "      <td>5.1</td>\n",
       "      <td>3.5</td>\n",
       "      <td>1.4</td>\n",
       "      <td>0.2</td>\n",
       "      <td>setosa</td>\n",
       "    </tr>\n",
       "    <tr>\n",
       "      <th>1</th>\n",
       "      <td>4.9</td>\n",
       "      <td>3.0</td>\n",
       "      <td>1.4</td>\n",
       "      <td>0.2</td>\n",
       "      <td>setosa</td>\n",
       "    </tr>\n",
       "    <tr>\n",
       "      <th>2</th>\n",
       "      <td>4.7</td>\n",
       "      <td>3.2</td>\n",
       "      <td>1.3</td>\n",
       "      <td>0.2</td>\n",
       "      <td>setosa</td>\n",
       "    </tr>\n",
       "    <tr>\n",
       "      <th>3</th>\n",
       "      <td>4.6</td>\n",
       "      <td>3.1</td>\n",
       "      <td>1.5</td>\n",
       "      <td>0.2</td>\n",
       "      <td>setosa</td>\n",
       "    </tr>\n",
       "    <tr>\n",
       "      <th>4</th>\n",
       "      <td>5.0</td>\n",
       "      <td>3.6</td>\n",
       "      <td>1.4</td>\n",
       "      <td>0.2</td>\n",
       "      <td>setosa</td>\n",
       "    </tr>\n",
       "    <tr>\n",
       "      <th>...</th>\n",
       "      <td>...</td>\n",
       "      <td>...</td>\n",
       "      <td>...</td>\n",
       "      <td>...</td>\n",
       "      <td>...</td>\n",
       "    </tr>\n",
       "    <tr>\n",
       "      <th>145</th>\n",
       "      <td>6.7</td>\n",
       "      <td>3.0</td>\n",
       "      <td>5.2</td>\n",
       "      <td>2.3</td>\n",
       "      <td>virginica</td>\n",
       "    </tr>\n",
       "    <tr>\n",
       "      <th>146</th>\n",
       "      <td>6.3</td>\n",
       "      <td>2.5</td>\n",
       "      <td>5.0</td>\n",
       "      <td>1.9</td>\n",
       "      <td>virginica</td>\n",
       "    </tr>\n",
       "    <tr>\n",
       "      <th>147</th>\n",
       "      <td>6.5</td>\n",
       "      <td>3.0</td>\n",
       "      <td>5.2</td>\n",
       "      <td>2.0</td>\n",
       "      <td>virginica</td>\n",
       "    </tr>\n",
       "    <tr>\n",
       "      <th>148</th>\n",
       "      <td>6.2</td>\n",
       "      <td>3.4</td>\n",
       "      <td>5.4</td>\n",
       "      <td>2.3</td>\n",
       "      <td>virginica</td>\n",
       "    </tr>\n",
       "    <tr>\n",
       "      <th>149</th>\n",
       "      <td>5.9</td>\n",
       "      <td>3.0</td>\n",
       "      <td>5.1</td>\n",
       "      <td>1.8</td>\n",
       "      <td>virginica</td>\n",
       "    </tr>\n",
       "  </tbody>\n",
       "</table>\n",
       "<p>150 rows × 5 columns</p>\n",
       "</div>"
      ],
      "text/plain": [
       "     sepal_length  sepal_width  petal_length  petal_width    species\n",
       "0             5.1          3.5           1.4          0.2     setosa\n",
       "1             4.9          3.0           1.4          0.2     setosa\n",
       "2             4.7          3.2           1.3          0.2     setosa\n",
       "3             4.6          3.1           1.5          0.2     setosa\n",
       "4             5.0          3.6           1.4          0.2     setosa\n",
       "..            ...          ...           ...          ...        ...\n",
       "145           6.7          3.0           5.2          2.3  virginica\n",
       "146           6.3          2.5           5.0          1.9  virginica\n",
       "147           6.5          3.0           5.2          2.0  virginica\n",
       "148           6.2          3.4           5.4          2.3  virginica\n",
       "149           5.9          3.0           5.1          1.8  virginica\n",
       "\n",
       "[150 rows x 5 columns]"
      ]
     },
     "execution_count": 133,
     "metadata": {},
     "output_type": "execute_result"
    }
   ],
   "source": [
    "df"
   ]
  },
  {
   "cell_type": "code",
   "execution_count": 134,
   "id": "d55c2922-1093-453f-a717-317298aacff5",
   "metadata": {},
   "outputs": [
    {
     "name": "stderr",
     "output_type": "stream",
     "text": [
      "/var/folders/kc/4swzx7w979z6w9js5c61gt7h0000gn/T/ipykernel_18506/1561505828.py:4: FutureWarning: Downcasting behavior in `replace` is deprecated and will be removed in a future version. To retain the old behavior, explicitly call `result.infer_objects(copy=False)`. To opt-in to the future behavior, set `pd.set_option('future.no_silent_downcasting', True)`\n",
      "  df['species'] = df['species'].replace('virginica', 2.0)\n"
     ]
    },
    {
     "data": {
      "text/html": [
       "<div>\n",
       "<style scoped>\n",
       "    .dataframe tbody tr th:only-of-type {\n",
       "        vertical-align: middle;\n",
       "    }\n",
       "\n",
       "    .dataframe tbody tr th {\n",
       "        vertical-align: top;\n",
       "    }\n",
       "\n",
       "    .dataframe thead th {\n",
       "        text-align: right;\n",
       "    }\n",
       "</style>\n",
       "<table border=\"1\" class=\"dataframe\">\n",
       "  <thead>\n",
       "    <tr style=\"text-align: right;\">\n",
       "      <th></th>\n",
       "      <th>sepal_length</th>\n",
       "      <th>sepal_width</th>\n",
       "      <th>petal_length</th>\n",
       "      <th>petal_width</th>\n",
       "      <th>species</th>\n",
       "    </tr>\n",
       "  </thead>\n",
       "  <tbody>\n",
       "    <tr>\n",
       "      <th>0</th>\n",
       "      <td>5.1</td>\n",
       "      <td>3.5</td>\n",
       "      <td>1.4</td>\n",
       "      <td>0.2</td>\n",
       "      <td>0.0</td>\n",
       "    </tr>\n",
       "    <tr>\n",
       "      <th>1</th>\n",
       "      <td>4.9</td>\n",
       "      <td>3.0</td>\n",
       "      <td>1.4</td>\n",
       "      <td>0.2</td>\n",
       "      <td>0.0</td>\n",
       "    </tr>\n",
       "    <tr>\n",
       "      <th>2</th>\n",
       "      <td>4.7</td>\n",
       "      <td>3.2</td>\n",
       "      <td>1.3</td>\n",
       "      <td>0.2</td>\n",
       "      <td>0.0</td>\n",
       "    </tr>\n",
       "    <tr>\n",
       "      <th>3</th>\n",
       "      <td>4.6</td>\n",
       "      <td>3.1</td>\n",
       "      <td>1.5</td>\n",
       "      <td>0.2</td>\n",
       "      <td>0.0</td>\n",
       "    </tr>\n",
       "    <tr>\n",
       "      <th>4</th>\n",
       "      <td>5.0</td>\n",
       "      <td>3.6</td>\n",
       "      <td>1.4</td>\n",
       "      <td>0.2</td>\n",
       "      <td>0.0</td>\n",
       "    </tr>\n",
       "    <tr>\n",
       "      <th>...</th>\n",
       "      <td>...</td>\n",
       "      <td>...</td>\n",
       "      <td>...</td>\n",
       "      <td>...</td>\n",
       "      <td>...</td>\n",
       "    </tr>\n",
       "    <tr>\n",
       "      <th>145</th>\n",
       "      <td>6.7</td>\n",
       "      <td>3.0</td>\n",
       "      <td>5.2</td>\n",
       "      <td>2.3</td>\n",
       "      <td>2.0</td>\n",
       "    </tr>\n",
       "    <tr>\n",
       "      <th>146</th>\n",
       "      <td>6.3</td>\n",
       "      <td>2.5</td>\n",
       "      <td>5.0</td>\n",
       "      <td>1.9</td>\n",
       "      <td>2.0</td>\n",
       "    </tr>\n",
       "    <tr>\n",
       "      <th>147</th>\n",
       "      <td>6.5</td>\n",
       "      <td>3.0</td>\n",
       "      <td>5.2</td>\n",
       "      <td>2.0</td>\n",
       "      <td>2.0</td>\n",
       "    </tr>\n",
       "    <tr>\n",
       "      <th>148</th>\n",
       "      <td>6.2</td>\n",
       "      <td>3.4</td>\n",
       "      <td>5.4</td>\n",
       "      <td>2.3</td>\n",
       "      <td>2.0</td>\n",
       "    </tr>\n",
       "    <tr>\n",
       "      <th>149</th>\n",
       "      <td>5.9</td>\n",
       "      <td>3.0</td>\n",
       "      <td>5.1</td>\n",
       "      <td>1.8</td>\n",
       "      <td>2.0</td>\n",
       "    </tr>\n",
       "  </tbody>\n",
       "</table>\n",
       "<p>150 rows × 5 columns</p>\n",
       "</div>"
      ],
      "text/plain": [
       "     sepal_length  sepal_width  petal_length  petal_width  species\n",
       "0             5.1          3.5           1.4          0.2      0.0\n",
       "1             4.9          3.0           1.4          0.2      0.0\n",
       "2             4.7          3.2           1.3          0.2      0.0\n",
       "3             4.6          3.1           1.5          0.2      0.0\n",
       "4             5.0          3.6           1.4          0.2      0.0\n",
       "..            ...          ...           ...          ...      ...\n",
       "145           6.7          3.0           5.2          2.3      2.0\n",
       "146           6.3          2.5           5.0          1.9      2.0\n",
       "147           6.5          3.0           5.2          2.0      2.0\n",
       "148           6.2          3.4           5.4          2.3      2.0\n",
       "149           5.9          3.0           5.1          1.8      2.0\n",
       "\n",
       "[150 rows x 5 columns]"
      ]
     },
     "execution_count": 134,
     "metadata": {},
     "output_type": "execute_result"
    }
   ],
   "source": [
    "# Change the datatype of last column from strings to floats\n",
    "df['species'] = df['species'].replace('setosa', 0.0)\n",
    "df['species'] = df['species'].replace('versicolor', 1.0)\n",
    "df['species'] = df['species'].replace('virginica', 2.0)\n",
    "df"
   ]
  },
  {
   "cell_type": "code",
   "execution_count": 135,
   "id": "3ad1c8a4-c6d3-4bde-88fe-27e198ac2760",
   "metadata": {},
   "outputs": [],
   "source": [
    "# Train Test Split! Set X, y\n",
    "X = df.drop('species', axis=1)\n",
    "y = df['species']"
   ]
  },
  {
   "cell_type": "code",
   "execution_count": 136,
   "id": "bb97d78c-49ce-474c-909e-f7c0e6582bd8",
   "metadata": {},
   "outputs": [],
   "source": [
    "# Convert to numpy arrays\n",
    "X = X.values\n",
    "y = y.values"
   ]
  },
  {
   "cell_type": "code",
   "execution_count": 137,
   "id": "072d07ea-283c-4151-8dbf-1944a1b63206",
   "metadata": {},
   "outputs": [],
   "source": [
    "from sklearn.model_selection import train_test_split"
   ]
  },
  {
   "cell_type": "code",
   "execution_count": 138,
   "id": "68129d27-4642-4398-9a57-8a27ab220e91",
   "metadata": {},
   "outputs": [],
   "source": [
    "# Train Test Split\n",
    "X_train, X_test, y_train, y_test = train_test_split(X, y, test_size=0.2, random_state=66)"
   ]
  },
  {
   "cell_type": "code",
   "execution_count": 139,
   "id": "3d65fee3-c7cd-4a8d-a05f-4d3086d306e7",
   "metadata": {},
   "outputs": [],
   "source": [
    "# Convert X to float tensor, y to long tensor\n",
    "X_train = torch.FloatTensor(X_train)\n",
    "X_test = torch.FloatTensor(X_test)\n",
    "y_train = torch.LongTensor(y_train)\n",
    "y_test = torch.LongTensor(y_test)"
   ]
  },
  {
   "cell_type": "code",
   "execution_count": 140,
   "id": "beb038ce-401d-4913-bf0a-6edc5c0246ed",
   "metadata": {},
   "outputs": [],
   "source": [
    "# Set the criterion of model to measure the error\n",
    "cost = nn.CrossEntropyLoss()\n",
    "# Choose Adam optimiser, learning rate\n",
    "optimiser = torch.optim.Adam(model.parameters(), lr=0.01)"
   ]
  },
  {
   "cell_type": "code",
   "execution_count": 141,
   "id": "1b062b37-1283-4c88-9b34-fe62af0c0c47",
   "metadata": {},
   "outputs": [
    {
     "name": "stdout",
     "output_type": "stream",
     "text": [
      "Epoch: 10, Loss: 1.0069382190704346\n",
      "Epoch: 20, Loss: 0.7983543276786804\n",
      "Epoch: 30, Loss: 0.5373232960700989\n",
      "Epoch: 40, Loss: 0.38564741611480713\n",
      "Epoch: 50, Loss: 0.2520734965801239\n",
      "Epoch: 60, Loss: 0.14548973739147186\n",
      "Epoch: 70, Loss: 0.09266415983438492\n",
      "Epoch: 80, Loss: 0.07205759733915329\n",
      "Epoch: 90, Loss: 0.0631786361336708\n",
      "Epoch: 100, Loss: 0.058513741940259933\n"
     ]
    }
   ],
   "source": [
    "# Training the model\n",
    "# Set epochs\n",
    "epochs = 100\n",
    "losses = []\n",
    "\n",
    "for i in range(epochs):\n",
    "    \n",
    "    # Forward propagation\n",
    "    y_pred = model.forward(X_train)\n",
    "    \n",
    "    # Keep on track of our losses\n",
    "    loss = cost(y_pred, y_train)\n",
    "    losses.append(loss.detach().numpy())\n",
    "    \n",
    "    # Print out each iteration\n",
    "    if (i + 1) % 10 == 0:\n",
    "        print(f\"Epoch: {i+1}, Loss: {loss}\")\n",
    "    \n",
    "    # Back Propagation\n",
    "    optimiser.zero_grad()\n",
    "    loss.backward()\n",
    "    optimiser.step()"
   ]
  },
  {
   "cell_type": "code",
   "execution_count": 142,
   "id": "7f9f69ac-95f4-4209-b928-c8cbc0dcf68e",
   "metadata": {},
   "outputs": [
    {
     "data": {
      "image/png": "[encoded data removed]",
      "text/plain": [
       "<Figure size 640x480 with 1 Axes>"
      ]
     },
     "metadata": {},
     "output_type": "display_data"
    }
   ],
   "source": [
    "# Plot the result\n",
    "plt.plot(range(1, epochs + 1), losses)\n",
    "plt.ylabel(\"Loss\")\n",
    "plt.xlabel(\"Epoch\")\n",
    "plt.show()"
   ]
  },
  {
   "cell_type": "code",
   "execution_count": 143,
   "id": "2183c374-6177-4377-8a80-a3104e907dca",
   "metadata": {},
   "outputs": [],
   "source": [
    "# Model Evaluation on Test Dataset (validation of model on test set)\n",
    "with torch.no_grad(): # turn off back propagation\n",
    "    y_eval = model.forward(X_test) # X_test are features from test sets, y_eval are predictions\n",
    "    loss = cost(y_eval, y_test)    "
   ]
  },
  {
   "cell_type": "code",
   "execution_count": 144,
   "id": "40fc3b89-8fbb-4299-91eb-c817a7971778",
   "metadata": {},
   "outputs": [
    {
     "data": {
      "text/plain": [
       "tensor(0.0975)"
      ]
     },
     "execution_count": 144,
     "metadata": {},
     "output_type": "execute_result"
    }
   ],
   "source": [
    "loss"
   ]
  },
  {
   "cell_type": "code",
   "execution_count": 145,
   "id": "72d4ce01-4701-4387-ad19-2f4e752be403",
   "metadata": {},
   "outputs": [
    {
     "name": "stdout",
     "output_type": "stream",
     "text": [
      "1   tensor([-2.7878,  4.5250, -1.4885]) \t Versicolor   \t 1\n",
      "2   tensor([-4.4145,  4.7272,  0.4923]) \t Versicolor   \t 1\n",
      "3   tensor([-4.4074,  4.5265,  0.6970]) \t Versicolor   \t 1\n",
      "4   tensor([  6.5908,   0.3712, -11.7378]) \t Setosa       \t 0\n",
      "5   tensor([-3.3257,  4.8213, -1.1129]) \t Versicolor   \t 1\n",
      "6   tensor([-2.3960,  4.2852, -1.7356]) \t Versicolor   \t 1\n",
      "7   tensor([  6.2632,   0.3174, -11.0081]) \t Setosa       \t 0\n",
      "8   tensor([  7.0512,   0.2816, -12.4717]) \t Setosa       \t 0\n",
      "9   tensor([ 5.5570,  0.3659, -9.7361]) \t Setosa       \t 0\n",
      "10  tensor([-7.8112,  4.2049,  5.3830]) \t Virginica    \t 2\n",
      "11  tensor([-8.2662,  3.6257,  6.5837]) \t Virginica    \t 2\n",
      "12  tensor([-8.0384,  3.8876,  5.9915]) \t Virginica    \t 2\n",
      "13  tensor([  6.0451,   0.3273, -10.6030]) \t Setosa       \t 0\n",
      "14  tensor([-6.3007,  3.8103,  3.8749]) \t Virginica    \t 2\n",
      "15  tensor([-8.7604,  2.8779,  8.0251]) \t Virginica    \t 2\n",
      "16  tensor([ 5.3805,  0.3802, -9.4088]) \t Setosa       \t 0\n",
      "17  tensor([-2.2944,  3.9960, -1.4515]) \t Versicolor   \t 1\n",
      "18  tensor([-6.4853,  3.7087,  4.2392]) \t Versicolor   \t 2\n",
      "19  tensor([-10.5214,   3.4923,   9.6086]) \t Virginica    \t 2\n",
      "20  tensor([-12.1549,   3.2690,  11.9236]) \t Virginica    \t 2\n",
      "21  tensor([  6.2985,   0.3158, -11.0736]) \t Setosa       \t 0\n",
      "22  tensor([-4.0609,  4.4278,  0.3712]) \t Versicolor   \t 1\n",
      "23  tensor([-4.5644,  4.3226,  1.1193]) \t Versicolor   \t 1\n",
      "24  tensor([-6.5501,  3.8092,  4.1945]) \t Virginica    \t 2\n",
      "25  tensor([-4.5171,  4.0695,  1.3275]) \t Versicolor   \t 1\n",
      "26  tensor([-10.7648,   3.6498,   9.7136]) \t Virginica    \t 2\n",
      "27  tensor([  6.4514,   0.3088, -11.3576]) \t Setosa       \t 0\n",
      "28  tensor([ 4.7398,  0.5374, -8.4450]) \t Setosa       \t 0\n",
      "29  tensor([-8.5783,  3.1447,  7.5222]) \t Virginica    \t 2\n",
      "30  tensor([-7.9520,  3.6647,  6.1338]) \t Virginica    \t 2\n",
      "\n",
      "29 correct predictions in total\n"
     ]
    }
   ],
   "source": [
    "correct = 0\n",
    "with torch.no_grad():\n",
    "    for i, data in enumerate(X_test):\n",
    "        y_val = model.forward(data)\n",
    "        if y_test[i] == 0:\n",
    "            x = \"Setosa\"\n",
    "        elif y_test[i] == 1:\n",
    "            x = \"Versicolor\"\n",
    "        else:\n",
    "            x = \"Virginica\"\n",
    "        # The flower species our netwok predicts\n",
    "        print(f\"{i+1:<3} {str(y_val):<30} \\t {x:<12} \\t {y_val.argmax().item()}\")\n",
    "        # Correct/not\n",
    "        if y_val.argmax().item() == y_test[i]:\n",
    "            correct += 1\n",
    "print(f\"\\n{correct} correct predictions in total\")"
   ]
  },
  {
   "cell_type": "code",
   "execution_count": 146,
   "id": "cb58f105-36c0-4725-8910-4060066d000d",
   "metadata": {},
   "outputs": [],
   "source": [
    "# Evaluate new data on the network\n",
    "new_iris = torch.tensor([4.7, 3.2, 1.3, 0.2])"
   ]
  },
  {
   "cell_type": "code",
   "execution_count": 147,
   "id": "a144cb5d-d137-4656-903b-873ec0a8ecaf",
   "metadata": {},
   "outputs": [
    {
     "name": "stdout",
     "output_type": "stream",
     "text": [
      "tensor([  5.8432,   0.3364, -10.2280])\n"
     ]
    }
   ],
   "source": [
    "with torch.no_grad():\n",
    "    print(model(new_iris))"
   ]
  },
  {
   "cell_type": "code",
   "execution_count": 148,
   "id": "f573149a-ab90-48ce-b990-4d5f0bd2d37a",
   "metadata": {},
   "outputs": [],
   "source": [
    "# Save our model\n",
    "torch.save(model.state_dict(), 'basic_iris_model.pt')"
   ]
  },
  {
   "cell_type": "code",
   "execution_count": 149,
   "id": "6d1cb65e-2a1b-4010-9f35-484469e9fb88",
   "metadata": {},
   "outputs": [
    {
     "name": "stderr",
     "output_type": "stream",
     "text": [
      "/var/folders/kc/4swzx7w979z6w9js5c61gt7h0000gn/T/ipykernel_18506/459182242.py:3: FutureWarning: You are using `torch.load` with `weights_only=False` (the current default value), which uses the default pickle module implicitly. It is possible to construct malicious pickle data which will execute arbitrary code during unpickling (See https://github.com/pytorch/pytorch/blob/main/SECURITY.md#untrusted-models for more details). In a future release, the default value for `weights_only` will be flipped to `True`. This limits the functions that could be executed during unpickling. Arbitrary objects will no longer be allowed to be loaded via this mode unless they are explicitly allowlisted by the user via `torch.serialization.add_safe_globals`. We recommend you start setting `weights_only=True` for any use case where you don't have full control of the loaded file. Please open an issue on GitHub for any issues related to this experimental feature.\n",
      "  new_model.load_state_dict(torch.load('basic_iris_model.pt'))\n"
     ]
    },
    {
     "data": {
      "text/plain": [
       "<All keys matched successfully>"
      ]
     },
     "execution_count": 149,
     "metadata": {},
     "output_type": "execute_result"
    }
   ],
   "source": [
    "# Load the saved model\n",
    "new_model = Model()\n",
    "new_model.load_state_dict(torch.load('basic_iris_model.pt'))"
   ]
  },
  {
   "cell_type": "code",
   "execution_count": 150,
   "id": "0d60aef3-d419-46f3-b401-b522fba4531a",
   "metadata": {},
   "outputs": [
    {
     "data": {
      "text/plain": [
       "Model(\n",
       "  (layer1): Linear(in_features=4, out_features=8, bias=True)\n",
       "  (layer2): Linear(in_features=8, out_features=9, bias=True)\n",
       "  (output): Linear(in_features=9, out_features=3, bias=True)\n",
       ")"
      ]
     },
     "execution_count": 150,
     "metadata": {},
     "output_type": "execute_result"
    }
   ],
   "source": [
    "new_model.eval()"
   ]
  }
 ],
 "metadata": {
  "kernelspec": {
   "display_name": "Python 3 (ipykernel)",
   "language": "python",
   "name": "python3"
  },
  "language_info": {
   "codemirror_mode": {
    "name": "ipython",
    "version": 3
   },
   "file_extension": ".py",
   "mimetype": "text/x-python",
   "name": "python",
   "nbconvert_exporter": "python",
   "pygments_lexer": "ipython3",
   "version": "3.12.8"
  }
 },
 "nbformat": 4,
 "nbformat_minor": 5
}
